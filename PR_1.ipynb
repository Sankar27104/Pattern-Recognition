{
  "nbformat": 4,
  "nbformat_minor": 0,
  "metadata": {
    "colab": {
      "private_outputs": true,
      "provenance": [],
      "gpuType": "T4",
      "authorship_tag": "ABX9TyPC3F81eWyc42aaQlijFT1C",
      "include_colab_link": true
    },
    "kernelspec": {
      "name": "python3",
      "display_name": "Python 3"
    },
    "language_info": {
      "name": "python"
    },
    "accelerator": "GPU"
  },
  "cells": [
    {
      "cell_type": "markdown",
      "metadata": {
        "id": "view-in-github",
        "colab_type": "text"
      },
      "source": [
        "<a href=\"https://colab.research.google.com/github/Sankar27104/Pattern-Recognition/blob/main/PR_1.ipynb\" target=\"_parent\"><img src=\"https://colab.research.google.com/assets/colab-badge.svg\" alt=\"Open In Colab\"/></a>"
      ]
    },
    {
      "cell_type": "markdown",
      "source": [
        "# Implementation of Gradient Descent"
      ],
      "metadata": {
        "id": "rAUCfxHP9KrY"
      }
    },
    {
      "cell_type": "markdown",
      "source": [
        "##Import Libraries"
      ],
      "metadata": {
        "id": "6xAPHbyh9ZNy"
      }
    },
    {
      "cell_type": "code",
      "execution_count": null,
      "metadata": {
        "id": "BQ8_1EjC2eS6"
      },
      "outputs": [],
      "source": [
        "import pandas as pd\n",
        "import numpy as np\n",
        "import matplotlib.pyplot as plt\n",
        "from sklearn.preprocessing import StandardScaler\n",
        "from sklearn.model_selection import train_test_split\n",
        "from sklearn.linear_model import LogisticRegression\n",
        "from sklearn.metrics import accuracy_score"
      ]
    },
    {
      "cell_type": "markdown",
      "source": [
        "##LOAD DATASET\n"
      ],
      "metadata": {
        "id": "ZYSxPHAb9fL8"
      }
    },
    {
      "cell_type": "code",
      "source": [
        "# Load your dataset\n",
        "data = pd.read_csv(\"HousingData.csv\")"
      ],
      "metadata": {
        "id": "UKYT1Ddt5u_J"
      },
      "execution_count": null,
      "outputs": []
    },
    {
      "cell_type": "markdown",
      "source": [
        "##LOAD AND PREPROCESS THE DATA"
      ],
      "metadata": {
        "id": "iOhqnr349lHA"
      }
    },
    {
      "cell_type": "code",
      "source": [
        "# Separate features (X) and target variable (y)\n",
        "# Replace 'MEDV' with the actual name of your target column\n",
        "X = data.drop('MEDV', axis=1)\n",
        "y = data['MEDV']\n",
        "# Standardize the features\n",
        "scaler = StandardScaler()\n",
        "X_scaled = scaler.fit_transform(X)"
      ],
      "metadata": {
        "id": "j5RH2_TR7vmv"
      },
      "execution_count": null,
      "outputs": []
    },
    {
      "cell_type": "markdown",
      "source": [
        "##DEFINE NECESSARY FUNCTIONS"
      ],
      "metadata": {
        "id": "e0eiK0N_-DzN"
      }
    },
    {
      "cell_type": "code",
      "source": [
        "# Add intercept term to X (bias term)\n",
        "X_scaled = np.c_[np.ones((X_scaled.shape[0], 1)), X_scaled]\n",
        "def mean_squared_error(X, y, theta):\n",
        "  m = len(y)\n",
        "  predictions = X.dot(theta)\n",
        "  return np.sum((predictions - y) ** 2) / (2 * m)"
      ],
      "metadata": {
        "id": "wT7dDwTx7y3J"
      },
      "execution_count": null,
      "outputs": []
    },
    {
      "cell_type": "markdown",
      "source": [
        "##IMPLEMENT GRADIENT DESCENT"
      ],
      "metadata": {
        "id": "4ANaddAh-Ip5"
      }
    },
    {
      "cell_type": "code",
      "source": [
        "def gradient(X, y, theta):\n",
        "  m = len(y)\n",
        "  gradients = X.T.dot(X.dot(theta) - y) / m\n",
        "  return gradients\n",
        "def gradient_descent(X, y, theta, learning_rate, iterations):\n",
        "  m = len(y)\n",
        "  history = []\n",
        "  for i in range(iterations):\n",
        "    grad = gradient(X, y, theta)\n",
        "    theta = theta - learning_rate * grad\n",
        "    cost = mean_squared_error(X, y, theta)\n",
        "    history.append(cost)\n",
        "    if (i % 100 == 0):\n",
        "      print(f\"Iteration {i}: Cost = {cost}\")\n",
        "  return theta, history"
      ],
      "metadata": {
        "id": "q1ol4Ddd8GIY"
      },
      "execution_count": null,
      "outputs": []
    },
    {
      "cell_type": "markdown",
      "source": [
        "##INITIALIZE THE PARAMETERS AND RUN GRADIENT DESCENT"
      ],
      "metadata": {
        "id": "dUpxg4Dp-Qv_"
      }
    },
    {
      "cell_type": "code",
      "source": [
        "# Initialize parameters\n",
        "learning_rate = 0.1\n",
        "iterations = 1000\n",
        "initial_theta = np.random.randn(X_scaled.shape[1])\n",
        "# Run Gradient Descent\n",
        "final_theta, history = gradient_descent(X_scaled, y, initial_theta, learning_rate,\n",
        "iterations)\n",
        "# Plot the convergence history\n",
        "plt.plot(history)\n",
        "plt.xlabel('Iterations')\n",
        "plt.ylabel('Cost')\n",
        "plt.show\n"
      ],
      "metadata": {
        "id": "OLqZwVdY82YV"
      },
      "execution_count": null,
      "outputs": []
    },
    {
      "cell_type": "markdown",
      "source": [
        "##VISUALIZE THE OPTIMIZATION PROCESS"
      ],
      "metadata": {
        "id": "wo27lzCw-amI"
      }
    },
    {
      "cell_type": "code",
      "source": [
        "plt.figure(figsize=(10, 6))\n",
        "plt.plot(range(iterations), history, color='blue')\n",
        "plt.title('Gradient Descent Optimization')\n",
        "plt.xlabel('Iterations')\n",
        "plt.ylabel('Mean Squared Error (MSE)')\n",
        "plt.grid(True)\n",
        "plt.show()\n",
        "print(f\"Final Theta: {final_theta}\")"
      ],
      "metadata": {
        "id": "EbDwDBuJ85XM"
      },
      "execution_count": null,
      "outputs": []
    }
  ]
}