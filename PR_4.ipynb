{
  "nbformat": 4,
  "nbformat_minor": 0,
  "metadata": {
    "colab": {
      "private_outputs": true,
      "provenance": [],
      "authorship_tag": "ABX9TyMEZ1P191jIaCQ7+uokzU5G",
      "include_colab_link": true
    },
    "kernelspec": {
      "name": "python3",
      "display_name": "Python 3"
    },
    "language_info": {
      "name": "python"
    }
  },
  "cells": [
    {
      "cell_type": "markdown",
      "metadata": {
        "id": "view-in-github",
        "colab_type": "text"
      },
      "source": [
        "<a href=\"https://colab.research.google.com/github/Sankar27104/Pattern-Recognition/blob/main/PR_4.ipynb\" target=\"_parent\"><img src=\"https://colab.research.google.com/assets/colab-badge.svg\" alt=\"Open In Colab\"/></a>"
      ]
    },
    {
      "cell_type": "markdown",
      "source": [
        "#Build IRIS flower classification in python using pattern recognition models"
      ],
      "metadata": {
        "id": "GAlYW-tiGbIV"
      }
    },
    {
      "cell_type": "markdown",
      "source": [
        "##Import necessary libraries"
      ],
      "metadata": {
        "id": "2nzz1WGTGhwa"
      }
    },
    {
      "cell_type": "code",
      "source": [
        "import numpy as np\n",
        "import pandas as pd\n",
        "import matplotlib.pyplot as plt\n",
        "from sklearn.datasets import load_iris\n",
        "from sklearn.model_selection import train_test_split\n",
        "from sklearn.preprocessing import StandardScaler\n",
        "from sklearn.linear_model import LogisticRegression\n",
        "from sklearn.tree import DecisionTreeClassifier\n",
        "from sklearn.ensemble import RandomForestClassifier\n",
        "from sklearn.svm import SVC\n",
        "from sklearn.metrics import accuracy_score, classification_report, confusion_matrix"
      ],
      "metadata": {
        "id": "d5hcKj9iGl5X"
      },
      "execution_count": null,
      "outputs": []
    },
    {
      "cell_type": "markdown",
      "source": [
        "##Load the Iris dataset"
      ],
      "metadata": {
        "id": "rwJa42lXGsEm"
      }
    },
    {
      "cell_type": "code",
      "source": [
        "iris = load_iris()\n",
        "X = iris.data\n",
        "y = iris.target\n",
        "class_names = iris.target_names"
      ],
      "metadata": {
        "id": "BKthRbb-G9wK"
      },
      "execution_count": null,
      "outputs": []
    },
    {
      "cell_type": "markdown",
      "source": [
        "##Split the data into training and testing sets"
      ],
      "metadata": {
        "id": "OFVVnfeDHAL0"
      }
    },
    {
      "cell_type": "code",
      "source": [
        "X_train, X_test, y_train, y_test = train_test_split(X, y,\n",
        "test_size=0.2, random_state=42)"
      ],
      "metadata": {
        "id": "12K1SeXXHC31"
      },
      "execution_count": null,
      "outputs": []
    },
    {
      "cell_type": "markdown",
      "source": [
        "##Standardize the features"
      ],
      "metadata": {
        "id": "aLCKzg49HFkA"
      }
    },
    {
      "cell_type": "code",
      "source": [
        "scaler = StandardScaler()\n",
        "X_train = scaler.fit_transform(X_train)\n",
        "X_test = scaler.transform(X_test)"
      ],
      "metadata": {
        "id": "Ra5Zk62bHLlW"
      },
      "execution_count": null,
      "outputs": []
    },
    {
      "cell_type": "markdown",
      "source": [
        "##Initialize models"
      ],
      "metadata": {
        "id": "pBWmNo63HQFf"
      }
    },
    {
      "cell_type": "code",
      "source": [
        "models = {\n",
        "'Logistic Regression': LogisticRegression(max_iter=1000,\n",
        "random_state=42),\n",
        "'Decision Tree': DecisionTreeClassifier(random_state=42),\n",
        "'Random Forest': RandomForestClassifier(random_state=42),\n",
        "'SVM': SVC(kernel='linear', random_state=42)}"
      ],
      "metadata": {
        "id": "V6YGmIiLHURs"
      },
      "execution_count": null,
      "outputs": []
    },
    {
      "cell_type": "markdown",
      "source": [
        "##Train and evaluate models"
      ],
      "metadata": {
        "id": "RY9VO9SpHYF0"
      }
    },
    {
      "cell_type": "code",
      "source": [
        "for model_name, model in models.items():\n",
        "  print(f\"Training {model_name}...\")\n",
        "  model.fit(X_train, y_train)"
      ],
      "metadata": {
        "id": "24RoQNvuHajG"
      },
      "execution_count": null,
      "outputs": []
    },
    {
      "cell_type": "markdown",
      "source": [
        "##Predict on the test set"
      ],
      "metadata": {
        "id": "Y0Zsw3gRHjJn"
      }
    },
    {
      "cell_type": "code",
      "source": [
        "y_pred = model.predict(X_test)"
      ],
      "metadata": {
        "id": "AQ3zGpjYHmP-"
      },
      "execution_count": null,
      "outputs": []
    },
    {
      "cell_type": "markdown",
      "source": [
        "##Evaluate the model"
      ],
      "metadata": {
        "id": "q86nQf6uHpRQ"
      }
    },
    {
      "cell_type": "code",
      "source": [
        "accuracy = accuracy_score(y_test, y_pred)\n",
        "print(f\"Accuracy of {model_name}: {accuracy:.4f}\")\n",
        "print(classification_report(y_test, y_pred,\n",
        "target_names=class_names))\n",
        "print(confusion_matrix(y_test, y_pred))\n",
        "print(\"=\"*50)"
      ],
      "metadata": {
        "id": "yDCLT5cZHtc-"
      },
      "execution_count": null,
      "outputs": []
    },
    {
      "cell_type": "markdown",
      "source": [
        "##Visualize decision boundaries for SVM and Decision Tree"
      ],
      "metadata": {
        "id": "SbZygWIuHwX3"
      }
    },
    {
      "cell_type": "code",
      "source": [
        "plt.figure(figsize=(18, 6))\n",
        "# SVM decision boundary\n",
        "plt.subplot(1, 2, 1)\n",
        "svm_model = models['SVM']\n",
        "svm_model.fit(X_train[:, :2], y_train)\n",
        "h = .02 # step size in the mesh\n",
        "x_min, x_max = X_train[:, 0].min() - 1, X_train[:, 0].max() + 1\n",
        "y_min, y_max = X_train[:, 1].min() - 1, X_train[:, 1].max() + 1\n",
        "xx, yy = np.meshgrid(np.arange(x_min, x_max, h),\n",
        "np.arange(y_min, y_max, h))\n",
        "Z = svm_model.predict(np.c_[xx.ravel(), yy.ravel()])\n",
        "# Put the result into a color plot\n",
        "Z = Z.reshape(xx.shape)\n",
        "plt.contourf(xx, yy, Z, cmap=plt.cm.coolwarm, alpha=0.8)\n",
        "# Plot also the training points\n",
        "plt.scatter(X_train[:, 0], X_train[:, 1], c=y_train,\n",
        "cmap=plt.cm.coolwarm, edgecolors='k')\n",
        "plt.xlabel('Sepal length')\n",
        "plt.ylabel('Sepal width')\n",
        "plt.title('SVM Decision Boundaries')\n",
        "# Decision Tree decision boundary\n",
        "plt.subplot(1, 2, 2)\n",
        "tree_model = models['Decision Tree']\n",
        "tree_model.fit(X_train[:, :2], y_train)\n",
        "Z = tree_model.predict(np.c_[xx.ravel(), yy.ravel()])\n",
        "Z = Z.reshape(xx.shape)\n",
        "plt.contourf(xx, yy, Z, cmap=plt.cm.coolwarm, alpha=0.8)\n",
        "plt.scatter(X_train[:, 0], X_train[:, 1], c=y_train,\n",
        "cmap=plt.cm.coolwarm, edgecolors='k')\n",
        "plt.xlabel('Sepal length')\n",
        "plt.ylabel('Sepal width')\n",
        "plt.title('Decision Tree Decision Boundaries')\n",
        "plt.tight_layout()\n",
        "plt.show()"
      ],
      "metadata": {
        "id": "Eh7G1T0eH0P6"
      },
      "execution_count": null,
      "outputs": []
    }
  ]
}