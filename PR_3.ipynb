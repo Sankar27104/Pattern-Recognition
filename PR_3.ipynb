{
  "nbformat": 4,
  "nbformat_minor": 0,
  "metadata": {
    "colab": {
      "private_outputs": true,
      "provenance": [],
      "authorship_tag": "ABX9TyN9G1V2z9W++QzuTZSLhkY0",
      "include_colab_link": true
    },
    "kernelspec": {
      "name": "python3",
      "display_name": "Python 3"
    },
    "language_info": {
      "name": "python"
    }
  },
  "cells": [
    {
      "cell_type": "markdown",
      "metadata": {
        "id": "view-in-github",
        "colab_type": "text"
      },
      "source": [
        "<a href=\"https://colab.research.google.com/github/Sankar27104/Pattern-Recognition/blob/main/PR_3.ipynb\" target=\"_parent\"><img src=\"https://colab.research.google.com/assets/colab-badge.svg\" alt=\"Open In Colab\"/></a>"
      ]
    },
    {
      "cell_type": "markdown",
      "source": [
        "#Comparison of Classification Accuracy of SVM for given dataset\n"
      ],
      "metadata": {
        "id": "j9zA71LkEhPZ"
      }
    },
    {
      "cell_type": "markdown",
      "source": [
        "##Import necessary libraries"
      ],
      "metadata": {
        "id": "1jsTKK3pEqSk"
      }
    },
    {
      "cell_type": "code",
      "source": [
        "import numpy as np\n",
        "import pandas as pd\n",
        "import matplotlib.pyplot as plt\n",
        "from sklearn.datasets import load_iris\n",
        "from sklearn.model_selection import train_test_split\n",
        "from sklearn.preprocessing import StandardScaler\n",
        "from sklearn.svm import SVC\n",
        "from sklearn.metrics import accuracy_score, classification_report, confusion_matrix"
      ],
      "metadata": {
        "id": "6jCosW7REr7H"
      },
      "execution_count": null,
      "outputs": []
    },
    {
      "cell_type": "markdown",
      "source": [
        "##Load the Iris dataset"
      ],
      "metadata": {
        "id": "TGdErI_REvej"
      }
    },
    {
      "cell_type": "code",
      "source": [
        "iris = load_iris()\n",
        "X = iris.data\n",
        "y = iris.target"
      ],
      "metadata": {
        "id": "T5bfwXByE09v"
      },
      "execution_count": null,
      "outputs": []
    },
    {
      "cell_type": "markdown",
      "source": [
        "## Split the data into training and testing sets"
      ],
      "metadata": {
        "id": "kbba9L_UE4Xz"
      }
    },
    {
      "cell_type": "code",
      "source": [
        "X_train, X_test, y_train, y_test = train_test_split(X, y, test_size=0.2,\n",
        "random_state=42)\n",
        "# Standardize the features\n",
        "scaler = StandardScaler()\n",
        "X_train = scaler.fit_transform(X_train)\n",
        "X_test = scaler.transform(X_test)"
      ],
      "metadata": {
        "id": "H4F31doFE9_E"
      },
      "execution_count": null,
      "outputs": []
    },
    {
      "cell_type": "markdown",
      "source": [
        "##Train the SVM model with different kernels\n"
      ],
      "metadata": {
        "id": "xaHQYAs7FJ3q"
      }
    },
    {
      "cell_type": "code",
      "source": [
        "kernels = ['linear', 'poly', 'rbf']\n",
        "results = []\n",
        "for kernel in kernels:\n",
        "  svm_model = SVC(kernel=kernel)\n",
        "  svm_model.fit(X_train, y_train)"
      ],
      "metadata": {
        "id": "ME589RZrFMYZ"
      },
      "execution_count": null,
      "outputs": []
    },
    {
      "cell_type": "markdown",
      "source": [
        "##Predict on the test set"
      ],
      "metadata": {
        "id": "awVsfvHMFRTd"
      }
    },
    {
      "cell_type": "code",
      "source": [
        "y_pred = svm_model.predict(X_test)"
      ],
      "metadata": {
        "id": "N04vCZ5aFV0J"
      },
      "execution_count": null,
      "outputs": []
    },
    {
      "cell_type": "markdown",
      "source": [
        "##Evaluate the model"
      ],
      "metadata": {
        "id": "uzJfDj0HFYME"
      }
    },
    {
      "cell_type": "code",
      "source": [
        "accuracy = accuracy_score(y_test, y_pred)\n",
        "results.append((kernel, accuracy))\n",
        "print(f\"Kernel: {kernel}\")\n",
        "print(f\"Accuracy: {accuracy}\")\n",
        "print(classification_report(y_test, y_pred))\n",
        "print(confusion_matrix(y_test, y_pred))\n",
        "print(\"\\n\" + \"=\"*60 + \"\\n\")"
      ],
      "metadata": {
        "id": "hETUey6KFeus"
      },
      "execution_count": null,
      "outputs": []
    },
    {
      "cell_type": "code",
      "source": [
        "print(\"Comparison of classification accuracy for different kernels:\")\n",
        "for kernel, accuracy in results:\n",
        "  print(f\"Kernel: {kernel}, Accuracy: {accuracy}\")\n",
        "  X_train_2D = X_train[:, :2]\n",
        "  X_test_2D = X_test[:, :2]\n",
        "  for kernel in kernels:\n",
        "    svm_model = SVC(kernel=kernel)\n",
        "    svm_model.fit(X_train_2D, y_train)\n",
        "    plt.figure()\n",
        "    X0, X1 = X_train_2D[:, 0], X_train_2D[:, 1]\n",
        "    xx, yy = np.meshgrid(np.linspace(X0.min() - 1, X0.max() + 1, 100), np.linspace(X1.min() - 1, X1.max() +1, 100))\n",
        "    Z = svm_model.predict(np.c_[xx.ravel(), yy.ravel()])\n",
        "    Z = Z.reshape(xx.shape)\n",
        "    plt.contourf(xx, yy, Z, alpha=0.3)\n",
        "    plt.scatter(X0, X1, c=y_train, edgecolors='k', marker='o')\n",
        "    plt.title(f'SVM with {kernel} kernel (using first 2 features)')\n",
        "    plt.xlabel('Feature 1')\n",
        "    plt.ylabel('Feature 2')\n",
        "    plt.show()"
      ],
      "metadata": {
        "id": "1cEtAyeWFpcA"
      },
      "execution_count": null,
      "outputs": []
    }
  ]
}