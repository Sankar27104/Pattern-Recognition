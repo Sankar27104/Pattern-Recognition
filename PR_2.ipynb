{
  "nbformat": 4,
  "nbformat_minor": 0,
  "metadata": {
    "colab": {
      "private_outputs": true,
      "provenance": [],
      "gpuType": "T4",
      "authorship_tag": "ABX9TyO27w7urcZJkuTtQsh+auQ+",
      "include_colab_link": true
    },
    "kernelspec": {
      "name": "python3",
      "display_name": "Python 3"
    },
    "language_info": {
      "name": "python"
    },
    "accelerator": "GPU"
  },
  "cells": [
    {
      "cell_type": "markdown",
      "metadata": {
        "id": "view-in-github",
        "colab_type": "text"
      },
      "source": [
        "<a href=\"https://colab.research.google.com/github/Sankar27104/Pattern-Recognition/blob/main/PR_2.ipynb\" target=\"_parent\"><img src=\"https://colab.research.google.com/assets/colab-badge.svg\" alt=\"Open In Colab\"/></a>"
      ]
    },
    {
      "cell_type": "markdown",
      "source": [
        "#Implementation of Linear Regression using Gradient Descent."
      ],
      "metadata": {
        "id": "sUUFnIrrCpkD"
      }
    },
    {
      "cell_type": "markdown",
      "source": [
        "##IMPORT LIBRARIES"
      ],
      "metadata": {
        "id": "oygeBtQfCtbK"
      }
    },
    {
      "cell_type": "code",
      "execution_count": null,
      "metadata": {
        "id": "7pgnKj0yCJoo"
      },
      "outputs": [],
      "source": [
        "import numpy as np\n",
        "import matplotlib.pyplot as plt"
      ]
    },
    {
      "cell_type": "markdown",
      "source": [
        "##GENERATE EXAMPLE DATA"
      ],
      "metadata": {
        "id": "J0pBBEuLC35b"
      }
    },
    {
      "cell_type": "code",
      "source": [
        "# Set the random seed for reproducibility\n",
        "np.random.seed(42)\n",
        "# Generate 100 random data points\n",
        "X = 2 * np.random.rand(100, 1)\n",
        "y = 4 + 3 * X + np.random.randn(100, 1)\n",
        "# Plot the data\n",
        "plt.scatter(X, y)\n",
        "plt.xlabel(\"x\")\n",
        "plt.ylabel(\"y\")\n",
        "plt.title(\"Generated Data\")\n",
        "plt.show()"
      ],
      "metadata": {
        "id": "77nOvQesCZLp"
      },
      "execution_count": null,
      "outputs": []
    },
    {
      "cell_type": "markdown",
      "source": [
        "##PREPARE THE DATA"
      ],
      "metadata": {
        "id": "PgSWq5wgC-Cp"
      }
    },
    {
      "cell_type": "code",
      "source": [
        "# Add the intercept term to each instance\n",
        "X_b = np.c_[np.ones((100, 1)), X]"
      ],
      "metadata": {
        "id": "626YyxZ3DHkf"
      },
      "execution_count": null,
      "outputs": []
    },
    {
      "cell_type": "markdown",
      "source": [
        "##INITIALIZE PARAMETERS"
      ],
      "metadata": {
        "id": "Hz7ZMC5oDRR6"
      }
    },
    {
      "cell_type": "code",
      "source": [
        "# Random initialization of theta\n",
        "theta = np.random.randn(2, 1)"
      ],
      "metadata": {
        "id": "L8p3Htv_DU4G"
      },
      "execution_count": null,
      "outputs": []
    },
    {
      "cell_type": "markdown",
      "source": [
        "##DEFINE GRADIENT DESCENT PAREMETERS"
      ],
      "metadata": {
        "id": "TDvAPfueDZeE"
      }
    },
    {
      "cell_type": "code",
      "source": [
        "# Gradient Descent parameters\n",
        "learning_rate = 0.1\n",
        "n_iterations = 1000\n",
        "m = len(X_b)"
      ],
      "metadata": {
        "id": "NBxoKuQCDe7N"
      },
      "execution_count": null,
      "outputs": []
    },
    {
      "cell_type": "markdown",
      "source": [
        "##IMPLEMENT GRADIENT DESCENT"
      ],
      "metadata": {
        "id": "uGGS2PhEDlmn"
      }
    },
    {
      "cell_type": "code",
      "source": [
        "# Gradient Descent loop\n",
        "for iteration in range(n_iterations):\n",
        "  gradients = 2/m * X_b.T.dot(X_b.dot(theta) - y)\n",
        "  theta = theta - learning_rate * gradients"
      ],
      "metadata": {
        "id": "Ac_NGOidDro2"
      },
      "execution_count": null,
      "outputs": []
    },
    {
      "cell_type": "markdown",
      "source": [
        "##OUTPUT THE RESULTS"
      ],
      "metadata": {
        "id": "_qZDiwHFDwPw"
      }
    },
    {
      "cell_type": "code",
      "source": [
        "print(\"Theta found by Gradient Descent:\", theta)"
      ],
      "metadata": {
        "id": "pcG8rG9BD2O2"
      },
      "execution_count": null,
      "outputs": []
    },
    {
      "cell_type": "markdown",
      "source": [
        "##VISUALIZE THE RESULTS"
      ],
      "metadata": {
        "id": "mjOPBy4WD51Z"
      }
    },
    {
      "cell_type": "code",
      "source": [
        "# Plot the data and the regression line\n",
        "plt.plot(X, y, \"b.\")\n",
        "plt.plot(X, X_b.dot(theta), \"r-\")\n",
        "plt.xlabel(\"x\")\n",
        "plt.ylabel(\"y\")\n",
        "plt.title(\"Linear Regression using Gradient Descent\")\n",
        "plt.show()"
      ],
      "metadata": {
        "id": "RRuVB96xD_5M"
      },
      "execution_count": null,
      "outputs": []
    }
  ]
}